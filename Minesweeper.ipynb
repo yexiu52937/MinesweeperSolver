{
 "cells": [
  {
   "cell_type": "code",
   "execution_count": 62,
   "metadata": {},
   "outputs": [],
   "source": [
    "import win32gui\n",
    "import win32api\n",
    "import numpy as np\n",
    "from PIL import ImageGrab\n",
    "import cv2\n",
    "import pandas as pd"
   ]
  },
  {
   "cell_type": "code",
   "execution_count": 63,
   "metadata": {},
   "outputs": [
    {
     "name": "stdout",
     "output_type": "stream",
     "text": [
      "100 205 386 605\n"
     ]
    }
   ],
   "source": [
    "# Get the window of minesweeper\n",
    "\n",
    "class_name = \"TMain\" # class of the window\n",
    "\n",
    "title_name = \"Minesweeper Arbiter\" # title of the window\n",
    "\n",
    "hwnd = win32gui.FindWindow(class_name, title_name)\n",
    "\n",
    "# print(hwnd)\n",
    "\n",
    "if hwnd:\n",
    "    left, top, right, bottom = win32gui.GetWindowRect(hwnd)\n",
    "    # print(str(left)+\" \"+str(top)+\" \"+str(right)+\" \"+str(bottom))\n",
    "else:\n",
    "    print(\"Can't find minesweeper\")"
   ]
  },
  {
   "cell_type": "code",
   "execution_count": 64,
   "metadata": {},
   "outputs": [],
   "source": [
    "# Adjust the rectangle\n",
    "\n",
    "left += 44\n",
    "top += 178\n",
    "right += 78\n",
    "bottom += 98\n",
    "\n",
    "rect = (left, top, right, bottom)\n",
    "\n",
    "img = ImageGrab.grab().crop(rect)\n",
    "\n",
    "img.show()"
   ]
  },
  {
   "cell_type": "code",
   "execution_count": 65,
   "metadata": {},
   "outputs": [],
   "source": [
    "block_width, block_height = 20, 20\n",
    "\n",
    "blocks_x = int((right-left)/block_width)\n",
    "blocks_y = int((bottom-top)/block_height)"
   ]
  },
  {
   "cell_type": "code",
   "execution_count": 66,
   "metadata": {},
   "outputs": [],
   "source": [
    "def SegmentBlock(img, x, y):\n",
    "    x1, y1 = x*block_height, y*block_width\n",
    "    x2, y2 = x1+block_height, y1+block_width\n",
    "    return img.crop((y1, x1, y2, x2))\n",
    "\n",
    "blocks = [[0 for i in range(blocks_x)] for i in range(blocks_y)]\n",
    "\n",
    "for x in range(blocks_x):\n",
    "    for y in range(blocks_y):\n",
    "        blocks[x][y] = SegmentBlock(img, x, y)"
   ]
  },
  {
   "cell_type": "code",
   "execution_count": 67,
   "metadata": {},
   "outputs": [],
   "source": [
    "def exist_rgb(rgb_array, img_rgb):\n",
    "    for i in range(len(img_rgb)):\n",
    "        for element in img_rgb[i]:\n",
    "            if np.array_equal(rgb_array, element):\n",
    "                return True\n",
    "    else:\n",
    "        return False"
   ]
  },
  {
   "cell_type": "code",
   "execution_count": 68,
   "metadata": {},
   "outputs": [],
   "source": [
    "from ctypes import sizeof\n",
    "\n",
    "\n",
    "def identify_block(blocks, blocks_y, blocks_x):\n",
    "    category_block = []\n",
    "    category_block.append(np.array([192,192,192])) # unclicked\n",
    "    category_block.append(np.array([255,0,0])) # 1\n",
    "    category_block.append(np.array([0,128,0])) # 2\n",
    "    category_block.append(np.array([0,0,255])) # 3\n",
    "    category_block.append(np.array([128,0,0])) # 4\n",
    "    category_block.append(np.array([0,0,128])) # 5\n",
    "    category_block.append(np.array([128,128,0])) # 6\n",
    "    category_block.append(np.array([0,0,0])) # 7\n",
    "    category_block.append(np.array([114,114,114])) # 8\n",
    "    category_block.append(np.array([255,255,255])) # white\n",
    "    #  print(len(category_block))\n",
    "    # 9: flagged\n",
    "    # -1: unclicked\n",
    "    # 0: blank\n",
    "    # -2: mine\n",
    "    mine_block = [[0 for i in range(blocks_x)] for i in range(blocks_y)]\n",
    "    for x in range(blocks_x):\n",
    "        for y in range(blocks_y):\n",
    "            block = blocks[x][y]\n",
    "            img_rgb = cv2.cvtColor(np.array(block), cv2.COLOR_BGR2RGB)\n",
    "            if exist_rgb(category_block[1], img_rgb):\n",
    "                mine_block[x][y] = 1\n",
    "            elif exist_rgb(category_block[2], img_rgb):\n",
    "                mine_block[x][y] = 2\n",
    "            elif exist_rgb(category_block[3], img_rgb):\n",
    "                if not exist_rgb(category_block[7], img_rgb):\n",
    "                    mine_block[x][y] = 3\n",
    "                elif np.array_equal(np.array([0,0,255]), img_rgb[3,4]):\n",
    "                    mine_block[x][y] = -2\n",
    "                else:\n",
    "                    mine_block[x][y] = 9\n",
    "            elif exist_rgb(category_block[4], img_rgb):\n",
    "                mine_block[x][y] = 4\n",
    "            elif exist_rgb(category_block[5], img_rgb):\n",
    "                mine_block[x][y] = 5\n",
    "            elif exist_rgb(category_block[6], img_rgb):\n",
    "                mine_block[x][y] = 6\n",
    "            elif exist_rgb(category_block[7], img_rgb):\n",
    "                if exist_rgb(category_block[9], img_rgb):\n",
    "                        mine_block[x][y] = -2\n",
    "                else:\n",
    "                    mine_block[x][y] = 7\n",
    "            elif exist_rgb(category_block[8], img_rgb):\n",
    "                mine_block[x][y] = 8\n",
    "            elif exist_rgb(category_block[9], img_rgb):\n",
    "                mine_block[x][y] = -1\n",
    "            else:\n",
    "                mine_block[x][y] = 0\n",
    "    return mine_block"
   ]
  },
  {
   "cell_type": "code",
   "execution_count": 69,
   "metadata": {},
   "outputs": [],
   "source": [
    "current = identify_block(blocks, blocks_y, blocks_x)"
   ]
  },
  {
   "cell_type": "code",
   "execution_count": 70,
   "metadata": {},
   "outputs": [
    {
     "name": "stdout",
     "output_type": "stream",
     "text": [
      "Current minesweeper board\n",
      "    0   1   2   3   4   5   6   7   8   9   10  11  12  13  14  15\n",
      "0   -1  -1  -1  -1  -1  -1  -1  -1  -1  -1  -1  -1  -1  -1  -1  -1\n",
      "1   -1  -1  -1  -1  -1  -1  -1  -1  -1  -1  -1  -1  -1  -1  -1  -1\n",
      "2   -1  -1  -1  -1  -1  -1  -1  -1  -1  -1  -1  -1  -1  -1  -1  -1\n",
      "3    1   1   2  -1  -1  -1  -1  -1  -1  -1   2   1   1   1  -1  -1\n",
      "4    0   0   1  -1  -1  -1   2  -1  -1  -1   1   0   0   1  -1  -1\n",
      "5    0   0   1   1   1   1  -1  -1  -1  -1   1   0   0   1  -1  -1\n",
      "6    0   0   0   0   0   1   1   3  -1  -1   1   1   0   1  -1  -1\n",
      "7    0   0   0   0   0   0   0   2  -1  -1  -1   1   0   1  -1  -1\n",
      "8    1   1   1   0   0   0   0   1   1  -1  -1   1   0   2  -1  -1\n",
      "9   -1  -1   3   2   2   1   1   0   1   2  -1   2   1   2  -1  -1\n",
      "10  -1  -1  -1  -1  -1  -1   2   1   3  -1  -1  -1  -1  -1  -1  -1\n",
      "11  -1  -1  -1  -1  -1  -1  -1  -1  -1  -1  -1  -1  -1  -1  -1  -1\n",
      "12  -1  -1  -1  -1  -1  -1  -1  -1  -1  -1  -1  -1  -1  -1  -1  -1\n",
      "13  -1  -1  -1  -1  -1  -1  -1  -1  -1  -1  -1  -1  -1  -1  -1  -1\n",
      "14  -1  -1  -1  -1  -1  -1  -1  -1  -1  -1  -1  -1  -1  -1  -1  -1\n",
      "15  -1  -1  -1  -1  -1  -1  -1  -1  -1  -1  -1  -1  -1  -1  -1  -1\n"
     ]
    }
   ],
   "source": [
    "df = pd.DataFrame(current)\n",
    "print(\"Current minesweeper board\")\n",
    "print(df)"
   ]
  },
  {
   "cell_type": "code",
   "execution_count": 71,
   "metadata": {},
   "outputs": [
    {
     "name": "stdout",
     "output_type": "stream",
     "text": [
      "Marked with possible mines\n",
      "    0   1   2   3   4   5   6   7   8   9   10  11  12  13  14  15\n",
      "0    0   0   0   0   0   0   0   0   0   0   0   0   0   0   0   0\n",
      "1    0   0   0   0   0   0   0   0   0   0   0   0   0   0   0   0\n",
      "2    0   0   0   0   0   0   0   0   0   0   0   0   0   0   0   0\n",
      "3    1   1   2   0   0   0   0   0   0   0   2   1   1   1   0   0\n",
      "4    0   0   1   9   0   0   2   0   0   0   1   0   0   1   9  -1\n",
      "5    0   0   1   1   1   1   0   0   0   0   1   0   0   1   0  -1\n",
      "6    0   0   0   0   0   1   1   3   0   0   1   1   0   1   0  -1\n",
      "7    0   0   0   0   0   0   0   2   9   0   9   1   0   1   9  -1\n",
      "8    1   1   1   0   0   0   0   1   1   0   0   1   0   2   0  -1\n",
      "9    0   9   3   2   2   1   1   0   1   2   0   2   1   2   9  -1\n",
      "10  -1   0   9   9   0   9   2   1   3   9   9  -1  -1  -1  -1  -1\n",
      "11  -1  -1  -1  -1  -1  -1  -1  -1  -1  -1  -1  -1  -1  -1  -1  -1\n",
      "12  -1  -1  -1  -1  -1  -1  -1  -1  -1  -1  -1  -1  -1  -1  -1  -1\n",
      "13  -1  -1  -1  -1  -1  -1  -1  -1  -1  -1  -1  -1  -1  -1  -1  -1\n",
      "14  -1  -1  -1  -1  -1  -1  -1  -1  -1  -1  -1  -1  -1  -1  -1  -1\n",
      "15  -1  -1  -1  -1  -1  -1  -1  -1  -1  -1  -1  -1  -1  -1  -1  -1\n"
     ]
    }
   ],
   "source": [
    "current = np.array(current)\n",
    "marked = np.copy(current)\n",
    "while True:\n",
    "    temp = np.copy(marked)\n",
    "    for i in range(1, len(current[0])-1):\n",
    "        for j in range(1, len(current)-1):\n",
    "            block = marked[j-1:j+2, i-1:i+2]\n",
    "            center = marked[j][i]\n",
    "            count_unclicked = np.count_nonzero(block == -1)\n",
    "            count_flagged = np.count_nonzero(block == 9)\n",
    "            if (count_unclicked+count_flagged) == center:\n",
    "                block[block==-1] = 9\n",
    "            elif count_flagged == center:\n",
    "                block[block==-1] = 0\n",
    "            marked[j-1:j+2, i-1:i+2] = block\n",
    "    if np.array_equal(temp, marked):\n",
    "        break\n",
    "df_marked = pd.DataFrame(marked)\n",
    "print(\"Marked with possible mines\")\n",
    "print(df_marked)\n"
   ]
  }
 ],
 "metadata": {
  "kernelspec": {
   "display_name": "Python 3.10.8 64-bit",
   "language": "python",
   "name": "python3"
  },
  "language_info": {
   "codemirror_mode": {
    "name": "ipython",
    "version": 3
   },
   "file_extension": ".py",
   "mimetype": "text/x-python",
   "name": "python",
   "nbconvert_exporter": "python",
   "pygments_lexer": "ipython3",
   "version": "3.10.8"
  },
  "orig_nbformat": 4,
  "vscode": {
   "interpreter": {
    "hash": "a55e837760f9e108752b2111eec83cb412179f885115e6accc0bf1aa09a327cc"
   }
  }
 },
 "nbformat": 4,
 "nbformat_minor": 2
}
